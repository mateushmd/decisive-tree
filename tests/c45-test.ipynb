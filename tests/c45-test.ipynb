{
 "cells": [
  {
   "cell_type": "code",
   "execution_count": null,
   "id": "f1281dab",
   "metadata": {},
   "outputs": [],
   "source": [
    "import os\n",
    "os.chdir('..')"
   ]
  },
  {
   "cell_type": "code",
   "execution_count": null,
   "id": "ac1976b1",
   "metadata": {},
   "outputs": [],
   "source": [
    "from wisdom_tree import split_data, C45, plot_confusion_matrix, calculate_metrics\n",
    "from nb_utils import display_side_by_side, print_metrics_report\n",
    "import pandas as pd"
   ]
  },
  {
   "cell_type": "code",
   "execution_count": null,
   "id": "9577acc6",
   "metadata": {},
   "outputs": [],
   "source": [
    "train_data = pd.read_csv('data/titanic/train.csv', sep=',')\n",
    "X_test = pd.read_csv('data/titanic/test.csv', sep=',')\n",
    "truth = pd.read_csv('data/titanic/truth.csv', sep=',')\n",
    "\n",
    "age_median = train_data['Age'].median()\n",
    "fare_median = train_data['Fare'].median()\n",
    "embarked_mode = train_data['Embarked'].mode()[0]\n",
    "\n",
    "train_data['Age'] = train_data['Age'].fillna(age_median)\n",
    "X_test['Age'] = X_test['Age'].fillna(age_median)\n",
    "\n",
    "train_data['Fare'] = train_data['Fare'].fillna(fare_median)\n",
    "X_test['Fare'] = X_test['Fare'].fillna(fare_median)\n",
    "\n",
    "train_data['Embarked'] = train_data['Embarked'].fillna(embarked_mode)\n",
    "X_test['Embarked'] = X_test['Embarked'].fillna(embarked_mode)\n",
    "\n",
    "cols_to_drop = ['PassengerId', 'Name', 'Ticket', 'Cabin']\n",
    "train_data.drop(cols_to_drop, axis='columns', inplace=True)\n",
    "X_test.drop(cols_to_drop, axis='columns', inplace=True)\n",
    "\n",
    "y_test = truth['Survived'].astype(int)\n",
    "\n",
    "train_data = train_data[[col for col in train_data.columns if col != 'Survived'] + ['Survived']]"
   ]
  },
  {
   "cell_type": "code",
   "execution_count": null,
   "id": "3afdfaf1",
   "metadata": {},
   "outputs": [],
   "source": [
    "X_train = train_data.iloc[:, :-1]\n",
    "y_train = train_data.iloc[:, -1]\n",
    "\n",
    "display_side_by_side(X_train, y_train, names=['X', 'y'])\n",
    "display_side_by_side(X_test, y_test, names=['X', 'y'])"
   ]
  },
  {
   "cell_type": "code",
   "execution_count": null,
   "id": "9dba47e1",
   "metadata": {},
   "outputs": [],
   "source": [
    "arvere = C45().fit(X_train, y_train)\n",
    "arvere.plot()"
   ]
  },
  {
   "cell_type": "code",
   "execution_count": null,
   "id": "a8e7d1e6",
   "metadata": {},
   "outputs": [],
   "source": [
    "predictions = arvere.predict(X_test)\n",
    "predictions"
   ]
  },
  {
   "cell_type": "code",
   "execution_count": null,
   "id": "ec8c9620",
   "metadata": {},
   "outputs": [],
   "source": [
    "plot_confusion_matrix(y_test, predictions)\n",
    "metrics = calculate_metrics(y_test, predictions)\n",
    "print_metrics_report(metrics)"
   ]
  }
 ],
 "metadata": {
  "kernelspec": {
   "display_name": ".venv",
   "language": "python",
   "name": "python3"
  },
  "language_info": {
   "codemirror_mode": {
    "name": "ipython",
    "version": 3
   },
   "file_extension": ".py",
   "mimetype": "text/x-python",
   "name": "python",
   "nbconvert_exporter": "python",
   "pygments_lexer": "ipython3",
   "version": "3.13.7"
  }
 },
 "nbformat": 4,
 "nbformat_minor": 5
}
